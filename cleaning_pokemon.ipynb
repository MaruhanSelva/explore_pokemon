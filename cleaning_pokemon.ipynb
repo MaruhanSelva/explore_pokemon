{
 "cells": [
  {
   "cell_type": "markdown",
   "metadata": {},
   "source": [
    "The purpose of this notebook is to document the cleaning process as I have to individually clean almost 80-ish rows by hand. Which is not the most pretties."
   ]
  },
  {
   "cell_type": "code",
   "execution_count": null,
   "metadata": {},
   "outputs": [],
   "source": [
    "import numpy as np\n",
    "import pandas as pd\n",
    "\n",
    "path = \"data/pokemon.csv\"\n",
    "poke_data = pd.read_csv(path)\n",
    "\n",
    "## Dropping unnecessary columns (we'll remove name after we're done cleaning):\n",
    "poke_data_clean = poke_data.drop(columns = ['abilities', 'classfication', 'japanese_name'])\n",
    "\n",
    "# change genderless pokemon to have 0 percentage_male\n",
    "poke_data_clean['percentage_male'].fillna(\"0\", inplace = True)\n",
    "\n",
    "# Update information on pokemon with alternate forms\n"
   ]
  }
 ],
 "metadata": {
  "language_info": {
   "name": "python"
  },
  "orig_nbformat": 4
 },
 "nbformat": 4,
 "nbformat_minor": 2
}
