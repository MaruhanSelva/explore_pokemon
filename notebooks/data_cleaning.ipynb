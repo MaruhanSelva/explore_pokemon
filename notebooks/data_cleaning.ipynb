{
 "cells": [
  {
   "cell_type": "markdown",
   "metadata": {},
   "source": [
    "# Data Cleaning\n",
    "\n",
    "In this file, we will handle the data cleaning. Which involves dealing with NaNs and incorrect data."
   ]
  },
  {
   "cell_type": "code",
   "execution_count": 2,
   "metadata": {},
   "outputs": [],
   "source": [
    "# Imports\n",
    "import pandas as pd"
   ]
  },
  {
   "cell_type": "code",
   "execution_count": 4,
   "metadata": {},
   "outputs": [],
   "source": [
    "# Data Imports\n",
    "pokemon_data = pd.read_csv(\"../data/pokemon.csv\")"
   ]
  },
  {
   "cell_type": "markdown",
   "metadata": {},
   "source": [
    "Let's start by dealing with NaNs. Let's see which columns have NaNs."
   ]
  },
  {
   "cell_type": "code",
   "execution_count": 52,
   "metadata": {},
   "outputs": [
    {
     "name": "stdout",
     "output_type": "stream",
     "text": [
      "abilities            False\n",
      "against_bug          False\n",
      "against_dark         False\n",
      "against_dragon       False\n",
      "against_electric     False\n",
      "against_fairy        False\n",
      "against_fight        False\n",
      "against_fire         False\n",
      "against_flying       False\n",
      "against_ghost        False\n",
      "against_grass        False\n",
      "against_ground       False\n",
      "against_ice          False\n",
      "against_normal       False\n",
      "against_poison       False\n",
      "against_psychic      False\n",
      "against_rock         False\n",
      "against_steel        False\n",
      "against_water        False\n",
      "attack               False\n",
      "base_egg_steps       False\n",
      "base_happiness       False\n",
      "base_total           False\n",
      "capture_rate         False\n",
      "classfication        False\n",
      "defense              False\n",
      "experience_growth    False\n",
      "height_m              True\n",
      "hp                   False\n",
      "japanese_name        False\n",
      "name                 False\n",
      "percentage_male       True\n",
      "pokedex_number       False\n",
      "sp_attack            False\n",
      "sp_defense           False\n",
      "speed                False\n",
      "type1                False\n",
      "type2                 True\n",
      "weight_kg             True\n",
      "generation           False\n",
      "is_legendary         False\n",
      "dtype: bool\n"
     ]
    }
   ],
   "source": [
    "print(pokemon_data.isnull().any())"
   ]
  },
  {
   "cell_type": "markdown",
   "metadata": {},
   "source": [
    "Here we can see that the following variates have NaN values: height_m, percentage_male, type2, and weight_kg. \n",
    "\n",
    "The easiest here to fix is type2. Some Pokemon only have one type. So let's set type2 to be the same whenever they only have one type."
   ]
  },
  {
   "cell_type": "code",
   "execution_count": 53,
   "metadata": {},
   "outputs": [],
   "source": [
    "pokemon_data['type2'] = pokemon_data['type2'].fillna(pokemon_data['type1'])"
   ]
  },
  {
   "cell_type": "markdown",
   "metadata": {},
   "source": [
    "Now, lets see what is going on with height_m and weight_kg. These should not be null as every Pokemon should have a height and weight (as with other living creatures). So let's take a look at which Pokemon are running into these issues."
   ]
  },
  {
   "cell_type": "code",
   "execution_count": 54,
   "metadata": {},
   "outputs": [
    {
     "name": "stdout",
     "output_type": "stream",
     "text": [
      "18       Rattata\n",
      "19      Raticate\n",
      "25        Raichu\n",
      "26     Sandshrew\n",
      "27     Sandslash\n",
      "36        Vulpix\n",
      "37     Ninetales\n",
      "49       Diglett\n",
      "50       Dugtrio\n",
      "51        Meowth\n",
      "52       Persian\n",
      "73       Geodude\n",
      "74      Graveler\n",
      "75         Golem\n",
      "87        Grimer\n",
      "88           Muk\n",
      "102    Exeggutor\n",
      "104      Marowak\n",
      "719        Hoopa\n",
      "744     Lycanroc\n",
      "Name: name, dtype: object\n"
     ]
    }
   ],
   "source": [
    "print(pokemon_data[pokemon_data['height_m'].isnull()][\"name\"])"
   ]
  },
  {
   "cell_type": "markdown",
   "metadata": {},
   "source": [
    "We have 20 Pokemon who do not have a height and I suspect that these same Pokemon also don't have a weight. Upon looking deeper into this data (and its source), it seems that this is because these Pokemon have different forms. Such as Alolan Forms or alternate forms like Lycanroc Midday, Midnight and Dusk. So we need to manually go and change the height and weight of these Pokemon.\n",
    "\n",
    "We'll replace them to be the values of their regular/most common forms."
   ]
  },
  {
   "cell_type": "code",
   "execution_count": 55,
   "metadata": {},
   "outputs": [],
   "source": [
    "# Rattata\n",
    "pokemon_data.at[18, \"height_m\"] = 0.3\n",
    "pokemon_data.at[18, \"weight_kg\"] = 3.5\n",
    "# Raticate\n",
    "pokemon_data.at[19, \"height_m\"] = 0.7\n",
    "pokemon_data.at[19, \"weight_kg\"] = 18.5\n",
    "# Raichu\n",
    "pokemon_data.at[25, \"height_m\"] = 0.8\n",
    "pokemon_data.at[25, \"weight_kg\"] = 30\n",
    "# Sandshrew\n",
    "pokemon_data.at[26, \"height_m\"] = 0.6\n",
    "pokemon_data.at[26, \"weight_kg\"] = 12\n",
    "# Sandslash\n",
    "pokemon_data.at[27, \"height_m\"] = 1\n",
    "pokemon_data.at[27, \"weight_kg\"] = 29.5\n",
    "# Vulpix\n",
    "pokemon_data.at[36, \"height_m\"] = 0.6\n",
    "pokemon_data.at[36, \"weight_kg\"] = 9.9\n",
    "# Ninetales\n",
    "pokemon_data.at[37, \"height_m\"] = 1.1\n",
    "pokemon_data.at[37, \"weight_kg\"] = 19.9\n",
    "# Diglett\n",
    "pokemon_data.at[49, \"height_m\"] = 0.2\n",
    "pokemon_data.at[49, \"weight_kg\"] = 0.8\n",
    "# Dugtrio\n",
    "pokemon_data.at[50, \"height_m\"] = 0.7\n",
    "pokemon_data.at[50, \"weight_kg\"] = 33.3\n",
    "# Meowth\n",
    "pokemon_data.at[51, \"height_m\"] = 0.4\n",
    "pokemon_data.at[51, \"weight_kg\"] = 4.2\n",
    "# Persian\n",
    "pokemon_data.at[52, \"height_m\"] = 1\n",
    "pokemon_data.at[52, \"weight_kg\"] = 32\n",
    "# Geodude\n",
    "pokemon_data.at[73, \"height_m\"] = 0.4\n",
    "pokemon_data.at[73, \"weight_kg\"] = 20\n",
    "# Graveler\n",
    "pokemon_data.at[74, \"height_m\"] = 1\n",
    "pokemon_data.at[74, \"weight_kg\"] = 105\n",
    "# Golem\n",
    "pokemon_data.at[75, \"height_m\"] = 1.4\n",
    "pokemon_data.at[75, \"weight_kg\"] = 300\n",
    "# Grimer\n",
    "pokemon_data.at[87, \"height_m\"] = 0.9\n",
    "pokemon_data.at[87, \"weight_kg\"] = 30\n",
    "# Muk\n",
    "pokemon_data.at[88, \"height_m\"] = 1.2\n",
    "pokemon_data.at[88, \"weight_kg\"] = 30\n",
    "# Exeggutor\n",
    "pokemon_data.at[102, \"height_m\"] = 2\n",
    "pokemon_data.at[102, \"weight_kg\"] = 120\n",
    "# Marowak\n",
    "pokemon_data.at[104, \"height_m\"] = 1\n",
    "pokemon_data.at[104, \"weight_kg\"] = 45\n",
    "# Hoopa\n",
    "pokemon_data.at[719, \"height_m\"] = 0.5\n",
    "pokemon_data.at[719, \"weight_kg\"] = 9\n",
    "# Lycanroc\n",
    "pokemon_data.at[744, \"height_m\"] = 0.8\n",
    "pokemon_data.at[744, \"weight_kg\"] = 25"
   ]
  },
  {
   "cell_type": "markdown",
   "metadata": {},
   "source": [
    "Let's check and see if there are no missing height/weight values now."
   ]
  },
  {
   "cell_type": "code",
   "execution_count": 56,
   "metadata": {},
   "outputs": [
    {
     "name": "stdout",
     "output_type": "stream",
     "text": [
      "Series([], Name: name, dtype: object)\n",
      "Series([], Name: name, dtype: object)\n"
     ]
    }
   ],
   "source": [
    "print(pokemon_data[pokemon_data['height_m'].isnull()][\"name\"])\n",
    "print(pokemon_data[pokemon_data['weight_kg'].isnull()][\"name\"])"
   ]
  },
  {
   "cell_type": "markdown",
   "metadata": {},
   "source": [
    "Now, that that has worked, we just need to look at percentage_male. I suspect that the entries missing here are those who cannot be male/female, i.e. they are genderless. So let's see which ones are NaN."
   ]
  },
  {
   "cell_type": "code",
   "execution_count": 57,
   "metadata": {},
   "outputs": [
    {
     "name": "stdout",
     "output_type": "stream",
     "text": [
      "80      Magnemite\n",
      "81       Magneton\n",
      "99        Voltorb\n",
      "100     Electrode\n",
      "119        Staryu\n",
      "          ...    \n",
      "796    Celesteela\n",
      "797       Kartana\n",
      "798      Guzzlord\n",
      "799      Necrozma\n",
      "800      Magearna\n",
      "Name: name, Length: 98, dtype: object\n"
     ]
    }
   ],
   "source": [
    "print(pokemon_data[pokemon_data['percentage_male'].isnull()][\"name\"])"
   ]
  },
  {
   "cell_type": "markdown",
   "metadata": {},
   "source": [
    "As I suspected, I am correct. Let's change each of those NaNs to be 0."
   ]
  },
  {
   "cell_type": "code",
   "execution_count": 58,
   "metadata": {},
   "outputs": [
    {
     "name": "stdout",
     "output_type": "stream",
     "text": [
      "Series([], Name: name, dtype: object)\n"
     ]
    }
   ],
   "source": [
    "pokemon_data['percentage_male'] = pokemon_data['percentage_male'].fillna(0)\n",
    "print(pokemon_data[pokemon_data['percentage_male'].isnull()][\"name\"])"
   ]
  },
  {
   "cell_type": "markdown",
   "metadata": {},
   "source": [
    "Now that we've dealt with all the NaNs, we need to see if there are any wonky datatypes in our dataframe."
   ]
  },
  {
   "cell_type": "code",
   "execution_count": 59,
   "metadata": {},
   "outputs": [
    {
     "data": {
      "text/plain": [
       "abilities             object\n",
       "against_bug          float64\n",
       "against_dark         float64\n",
       "against_dragon       float64\n",
       "against_electric     float64\n",
       "against_fairy        float64\n",
       "against_fight        float64\n",
       "against_fire         float64\n",
       "against_flying       float64\n",
       "against_ghost        float64\n",
       "against_grass        float64\n",
       "against_ground       float64\n",
       "against_ice          float64\n",
       "against_normal       float64\n",
       "against_poison       float64\n",
       "against_psychic      float64\n",
       "against_rock         float64\n",
       "against_steel        float64\n",
       "against_water        float64\n",
       "attack                 int64\n",
       "base_egg_steps         int64\n",
       "base_happiness         int64\n",
       "base_total             int64\n",
       "capture_rate          object\n",
       "classfication         object\n",
       "defense                int64\n",
       "experience_growth      int64\n",
       "height_m             float64\n",
       "hp                     int64\n",
       "japanese_name         object\n",
       "name                  object\n",
       "percentage_male      float64\n",
       "pokedex_number         int64\n",
       "sp_attack              int64\n",
       "sp_defense             int64\n",
       "speed                  int64\n",
       "type1                 object\n",
       "type2                 object\n",
       "weight_kg            float64\n",
       "generation             int64\n",
       "is_legendary           int64\n",
       "dtype: object"
      ]
     },
     "execution_count": 59,
     "metadata": {},
     "output_type": "execute_result"
    }
   ],
   "source": [
    "pokemon_data.dtypes"
   ]
  },
  {
   "cell_type": "markdown",
   "metadata": {},
   "source": [
    "That's odd. capture_rate which is the rate at which a Pokemon can be captured, is an object as opposed to an int/float. I suspect that something is wrong here. Upon further digging, we can see that the Pokemon Minior is causing this issue. We will change this value manually and then change the datatype of the column."
   ]
  },
  {
   "cell_type": "code",
   "execution_count": 62,
   "metadata": {},
   "outputs": [
    {
     "name": "stdout",
     "output_type": "stream",
     "text": [
      "30\n"
     ]
    }
   ],
   "source": [
    "print(pokemon_data.iloc[773][\"capture_rate\"])\n",
    "\n",
    "pokemon_data.at[773, \"capture_rate\"] = 30\n",
    "pokemon_data[\"capture_rate\"] = pokemon_data[\"capture_rate\"].apply(pd.to_numeric)"
   ]
  },
  {
   "cell_type": "markdown",
   "metadata": {},
   "source": [
    "Now, all our data is cleaned! So let's save it as a csv."
   ]
  },
  {
   "cell_type": "code",
   "execution_count": 63,
   "metadata": {},
   "outputs": [],
   "source": [
    "# Run if you need a new cleaned file\n",
    "# pokemon_data.to_csv(\"../data/pokemon_clean.csv\")"
   ]
  }
 ],
 "metadata": {
  "kernelspec": {
   "display_name": "Python 3",
   "language": "python",
   "name": "python3"
  },
  "language_info": {
   "codemirror_mode": {
    "name": "ipython",
    "version": 3
   },
   "file_extension": ".py",
   "mimetype": "text/x-python",
   "name": "python",
   "nbconvert_exporter": "python",
   "pygments_lexer": "ipython3",
   "version": "3.9.1"
  }
 },
 "nbformat": 4,
 "nbformat_minor": 2
}
